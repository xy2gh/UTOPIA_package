{
 "cells": [
  {
   "cell_type": "markdown",
   "metadata": {},
   "source": [
    "## Notebook: Running UTOPIA Model Step by Step"
   ]
  },
  {
   "cell_type": "markdown",
   "metadata": {},
   "source": [
    "### Import the necessary libraries and the UTOPIA class."
   ]
  },
  {
   "cell_type": "code",
   "execution_count": 1,
   "metadata": {},
   "outputs": [
    {
     "name": "stdout",
     "output_type": "stream",
     "text": [
      "C:\\XiaoyuGithub\\UTOPIA\\UTOPIA_package\\src\\utopia\\__init__.py\n"
     ]
    }
   ],
   "source": [
    "import utopia\n",
    "print(utopia.__file__)"
   ]
  },
  {
   "cell_type": "code",
   "execution_count": null,
   "metadata": {},
   "outputs": [],
   "source": [
    "import utopia\n",
    "from utopia.utopia import utopiaModel"
   ]
  },
  {
   "cell_type": "markdown",
   "metadata": {},
   "source": [
    "#### Step 1: Load Configuration and Data Files"
   ]
  },
  {
   "cell_type": "code",
   "execution_count": 3,
   "metadata": {},
   "outputs": [],
   "source": [
    "\n",
    "# Load the default configuration and data from the 'data' folder.\n",
    "data_data = utopiaModel.load_json_file(\"data/default_data.json\")\n",
    "config_data = utopiaModel.load_json_file(\"data/default_config.json\")\n"
   ]
  },
  {
   "cell_type": "code",
   "execution_count": 4,
   "metadata": {},
   "outputs": [
    {
     "name": "stdout",
     "output_type": "stream",
     "text": [
      "Loaded Configuration Data: {'big_bin_diameter_um': 5000, 'N_sizeBins': 5, 'vol_algal_cell_m3': 2e-16, 'spm_density_kg_m3': 1388, 'boxName': 'Utopia', 'comp_input_file_name': 'inputs_compartments.csv', 'comp_interactFile_name': 'compartment_interactions.csv', 'MPforms_list': ['freeMP', 'heterMP', 'biofMP', 'heterBiofMP'], 'solver': 'SteadyState', 'compartment_types': {'UTOPIA_surfaceSea_water_compartments': ['Ocean_Surface_Water', 'Coast_Surface_Water'], 'UTOPIA_water_compartments': ['Ocean_Mixed_Water', 'Ocean_Column_Water', 'Coast_Column_Water', 'Surface_Freshwater', 'Bulk_Freshwater'], 'UTOPIA_deep_soil_compartments': ['Beaches_Deep_Soil', 'Background_Soil', 'Impacted_Soil'], 'UTOPIA_soil_surface_compartments': ['Beaches_Soil_Surface', 'Background_Soil_Surface', 'Impacted_Soil_Surface'], 'UTOPIA_sediment_compartment': ['Sediment_Freshwater', 'Sediment_Ocean', 'Sediment_Coast'], 'UTOPIA_air_compartments': ['Air']}}\n",
      "Loaded Input Data: {'MPdensity_kg_m3': 980, 'MP_composition': 'PE', 'shape': 'sphere', 'MP_form': 'freeMP', 'FI': 0.5, 't_half_deg_free': 66000, 'heter_deg_factor': 10, 'biof_deg_factor': 0.5, 'factor_deepWater_soilSurface': 10, 'factor_sediment': 100, 't_frag_gen_FreeSurfaceWater': 36.5, 'biof_frag_factor': 2, 'heter_frag_factor': 100, 'emiss_dict_g_s': {'Ocean_Surface_Water': {'a': 0, 'b': 0, 'c': 0, 'd': 0, 'e': 100}, 'Ocean_Mixed_Water': {'a': 0, 'b': 0, 'c': 0, 'd': 0, 'e': 0}, 'Ocean_Column_Water': {'a': 0, 'b': 0, 'c': 0, 'd': 0, 'e': 0}, 'Coast_Surface_Water': {'a': 0, 'b': 0, 'c': 0, 'd': 0, 'e': 0}, 'Coast_Column_Water': {'a': 0, 'b': 0, 'c': 0, 'd': 0, 'e': 0}, 'Surface_Freshwater': {'a': 0, 'b': 0, 'c': 0, 'd': 0, 'e': 0}, 'Bulk_Freshwater': {'a': 0, 'b': 0, 'c': 0, 'd': 0, 'e': 0}, 'Sediment_Freshwater': {'a': 0, 'b': 0, 'c': 0, 'd': 0, 'e': 0}, 'Sediment_Ocean': {'a': 0, 'b': 0, 'c': 0, 'd': 0, 'e': 0}, 'Sediment_Coast': {'a': 0, 'b': 0, 'c': 0, 'd': 0, 'e': 0}, 'Beaches_Soil_Surface': {'a': 0, 'b': 0, 'c': 0, 'd': 0, 'e': 0}, 'Beaches_Deep_Soil': {'a': 0, 'b': 0, 'c': 0, 'd': 0, 'e': 0}, 'Background_Soil_Surface': {'a': 0, 'b': 0, 'c': 0, 'd': 0, 'e': 0}, 'Background_Soil': {'a': 0, 'b': 0, 'c': 0, 'd': 0, 'e': 0}, 'Impacted_Soil_Surface': {'a': 0, 'b': 0, 'c': 0, 'd': 0, 'e': 0}, 'Impacted_Soil': {'a': 0, 'b': 0, 'c': 0, 'd': 0, 'e': 0}, 'Air': {'a': 0, 'b': 0, 'c': 0, 'd': 0, 'e': 0}}}\n"
     ]
    }
   ],
   "source": [
    "\n",
    "# Display the loaded config and data to ensure they were loaded correctly.\n",
    "print(\"Loaded Configuration Data:\", config_data)\n",
    "print(\"Loaded Input Data:\", data_data)\n"
   ]
  },
  {
   "cell_type": "markdown",
   "metadata": {},
   "source": [
    "\n",
    "#### Step 2: Initialize the UTOPIA Model with the Loaded Data"
   ]
  },
  {
   "cell_type": "code",
   "execution_count": 5,
   "metadata": {},
   "outputs": [],
   "source": [
    "\n",
    "# We now initialize the model by passing the loaded data into the UTOPIA class.\n",
    "model = utopiaModel(config=config_data, data=data_data)\n"
   ]
  },
  {
   "cell_type": "code",
   "execution_count": 6,
   "metadata": {},
   "outputs": [
    {
     "name": "stdout",
     "output_type": "stream",
     "text": [
      "Model: UTOPIA\n",
      "Microplastic Density (kg/m3): 980\n",
      "MP shape:  sphere\n",
      "Emissions made to MP form:  freeMP\n",
      "Fragmentation style: Mixed (F = 0.5)\n",
      "Fragmetation timescale (days):  36.5\n",
      "Discorporation timescale (days):  66000\n",
      "Emissions to Ocean_Surface_Water for size fraction 5000.0 µm: 100 g/s\n"
     ]
    }
   ],
   "source": [
    "model.summarize()"
   ]
  },
  {
   "cell_type": "markdown",
   "metadata": {},
   "source": [
    "#### Step 3: Running the Model\n"
   ]
  },
  {
   "cell_type": "code",
   "execution_count": 7,
   "metadata": {},
   "outputs": [
    {
     "name": "stdout",
     "output_type": "stream",
     "text": [
      "Running UTOPIA model with configured parameters...\n",
      "Generated model objects.\n",
      "Generated rate constants for model particles.\n",
      "Built matrix of interactions.\n",
      "Solved system of ODEs for steady state.\n"
     ]
    }
   ],
   "source": [
    "model.run()  # Run the model to estimate steady state solution for the system."
   ]
  },
  {
   "cell_type": "code",
   "execution_count": null,
   "metadata": {},
   "outputs": [
    {
     "ename": "ModuleNotFoundError",
     "evalue": "No module named 'results_processing'",
     "output_type": "error",
     "traceback": [
      "\u001b[1;31m---------------------------------------------------------------------------\u001b[0m",
      "\u001b[1;31mModuleNotFoundError\u001b[0m                       Traceback (most recent call last)",
      "Cell \u001b[1;32mIn[8], line 1\u001b[0m\n\u001b[1;32m----> 1\u001b[0m \u001b[38;5;28;01mfrom\u001b[39;00m \u001b[38;5;21;01mresults_processing\u001b[39;00m\u001b[38;5;21;01m.\u001b[39;00m\u001b[38;5;21;01mmass_balance_check\u001b[39;00m \u001b[38;5;28;01mimport\u001b[39;00m\u001b[38;5;241m*\u001b[39m\n\u001b[0;32m      2\u001b[0m massBalance(model)\n",
      "\u001b[1;31mModuleNotFoundError\u001b[0m: No module named 'results_processing'"
     ]
    }
   ],
   "source": [
    "from utopia.results_processing.mass_balance_check import*\n",
    "massBalance(model)"
   ]
  },
  {
   "cell_type": "markdown",
   "metadata": {},
   "source": [
    "\n",
    "#### Step 4: Output and Results\n"
   ]
  },
  {
   "cell_type": "code",
   "execution_count": null,
   "metadata": {},
   "outputs": [],
   "source": [
    "from utopia.results_processing.process_results import*\n",
    "# Process results\n",
    "processor = ResultsProcessor(model)  # Pass model with results\n"
   ]
  },
  {
   "cell_type": "markdown",
   "metadata": {},
   "source": [
    "#### Process rate constants"
   ]
  },
  {
   "cell_type": "code",
   "execution_count": null,
   "metadata": {},
   "outputs": [],
   "source": [
    "processor.create_rateConstants_table()\n",
    "processor.plot_rateConstants()\n",
    "processor.RC_df\n"
   ]
  },
  {
   "cell_type": "markdown",
   "metadata": {},
   "source": [
    "#### General results: Heatmaps of mass and particle number distribution"
   ]
  },
  {
   "cell_type": "code",
   "execution_count": null,
   "metadata": {},
   "outputs": [],
   "source": [
    "processor.estimate_flows()\n",
    "processor.generate_flows_dict()\n",
    "processor.process_results()\n",
    "for fraction in [\"mass_fraction\", \"number_fraction\"]:\n",
    "    processor.plot_fractionDistribution_heatmaps(fraction)\n"
   ]
  },
  {
   "cell_type": "code",
   "execution_count": null,
   "metadata": {},
   "outputs": [],
   "source": [
    "processor.Results_extended"
   ]
  },
  {
   "cell_type": "markdown",
   "metadata": {},
   "source": [
    "#### Results by compartment"
   ]
  },
  {
   "cell_type": "code",
   "execution_count": null,
   "metadata": {},
   "outputs": [],
   "source": [
    "processor.extract_results_by_compartment()\n",
    "for fraction in [\"%_mass\", \"%_number\"]:\n",
    "    processor.plot_compartment_distribution(fraction)\n",
    "processor.results_by_comp\n",
    "\n"
   ]
  },
  {
   "cell_type": "markdown",
   "metadata": {},
   "source": [
    "#### Mass balance by compartment\n"
   ]
  },
  {
   "cell_type": "code",
   "execution_count": null,
   "metadata": {},
   "outputs": [],
   "source": [
    "for i in range(len(processor.results_by_comp)):\n",
    "    emissions=sum(processor.model.emiss_dict_g_s[processor.results_by_comp['Compartments'].iloc[i]].values())\n",
    "    print(f\"Mass balance for {processor.results_by_comp['Compartments'].iloc[i]}: {processor.results_by_comp['Total_inflows_g_s'].iloc[i]+emissions-processor.results_by_comp['Total_outflows_g_s'].iloc[i]}\")"
   ]
  },
  {
   "cell_type": "markdown",
   "metadata": {},
   "source": [
    "#### Exposure Indicators"
   ]
  },
  {
   "cell_type": "code",
   "execution_count": null,
   "metadata": {},
   "outputs": [],
   "source": [
    "# Calculate exposure indicators\n",
    "processor.estimate_exposure_indicators()"
   ]
  },
  {
   "cell_type": "markdown",
   "metadata": {},
   "source": [
    "##### Persistence and Residence Time"
   ]
  },
  {
   "cell_type": "code",
   "execution_count": null,
   "metadata": {},
   "outputs": [],
   "source": [
    "processor.processed_results[\"Overall_exposure_indicators\"]"
   ]
  },
  {
   "cell_type": "code",
   "execution_count": null,
   "metadata": {},
   "outputs": [],
   "source": [
    "processor.processed_results[\"size_fraction_indicators\"]\n"
   ]
  },
  {
   "cell_type": "markdown",
   "metadata": {},
   "source": [
    "##### Dispersed mass fraction (φ1) and remotely transferred mass fraction (φ2)"
   ]
  },
  {
   "cell_type": "code",
   "execution_count": null,
   "metadata": {},
   "outputs": [],
   "source": [
    "processor.estimate_emission_fractions()"
   ]
  },
  {
   "cell_type": "code",
   "execution_count": null,
   "metadata": {},
   "outputs": [],
   "source": [
    "pd.DataFrame(processor.processed_results[\"emission_fractions_mass_data\"])"
   ]
  },
  {
   "cell_type": "code",
   "execution_count": null,
   "metadata": {},
   "outputs": [],
   "source": [
    "## Alternativelly to runing step by step one can run all functions at the same time and then acess specific reutls from the processed_results dictionary\n",
    "\n",
    "#processor.process_all()  # Process all results"
   ]
  },
  {
   "cell_type": "code",
   "execution_count": null,
   "metadata": {},
   "outputs": [],
   "source": [
    "#pd.DataFrame(processor.processed_results[\"emission_fractions_mass_data\"])"
   ]
  },
  {
   "cell_type": "markdown",
   "metadata": {},
   "source": [
    "\n",
    "#### Step 5: Advanced Configuration (Optional)\n"
   ]
  },
  {
   "cell_type": "markdown",
   "metadata": {},
   "source": [
    "\n",
    "##### To adjust some input parameters the user can modify the values given in the default conf_data or data_data json files manually by modifying the json file provided in the data folder and saving it under a new name to the load it using then load them using the load_json_file function as provided above or following the comands provided below:\n"
   ]
  },
  {
   "cell_type": "code",
   "execution_count": null,
   "metadata": {},
   "outputs": [],
   "source": [
    "# Define modifications (follow the structure providede in the default configuration data (data_data))\n",
    "modifications = {\n",
    "    \"MPdensity_kg_m3\": 1580,\n",
    "    \"MP_composition\": \"PVC\",\n",
    "    'FI': 0.5\n",
    "}\n",
    "\n",
    "# Modify and save the data\n",
    "model.modify_and_save_data(data_data, modifications, \"custom_data.json\")"
   ]
  },
  {
   "cell_type": "code",
   "execution_count": null,
   "metadata": {},
   "outputs": [],
   "source": [
    "# Load the modified data to check if the changes were applied correctly\n",
    "user_data = utopiaModel.load_json_file(\"data/custom_data.json\")\n",
    "Newmodel = utopiaModel(config=config_data, data=user_data)\n",
    "Newmodel.summarize()"
   ]
  },
  {
   "cell_type": "code",
   "execution_count": null,
   "metadata": {},
   "outputs": [],
   "source": [
    "Newmodel.run()  # Run the model to estimate steady state solution for the system.\n",
    "# Process results   \n",
    "# Process results\n",
    "processorNew = ResultsProcessor(Newmodel)  # Pass model with results\n",
    "processorNew.process_all()  # Process all results\n"
   ]
  },
  {
   "cell_type": "code",
   "execution_count": null,
   "metadata": {},
   "outputs": [],
   "source": [
    "pd.DataFrame(processorNew.processed_results[\"emission_fractions_mass_data\"])"
   ]
  },
  {
   "cell_type": "markdown",
   "metadata": {},
   "source": [
    "\n",
    "# Step 7: Saving the Model Output (Optional)\n",
    "\n",
    "# If you want users to save the results, add a section for that.\n",
    "# Example:\n",
    "# output_file = \"model_output.json\"\n",
    "# with open(output_file, \"w\") as file:\n",
    "#     json.dump(results, file)\n",
    "# print(f\"Results saved to {output_file}\")\n"
   ]
  },
  {
   "cell_type": "markdown",
   "metadata": {},
   "source": [
    "# For example, assuming the model returns results as a dictionary or DataFrame:\n",
    "# results = model.get_results()  # Replace with the actual result retrieval method\n",
    "\n",
    "# Let's print the results (this part depends on how your model outputs results).\n",
    "# print(\"Model Results:\", results)\n",
    "\n",
    "# Step 5: Visualize the Results (Optional)\n",
    "\n",
    "# If your model has data for visualization, we can plot the results using libraries like matplotlib.\n",
    "# Example:\n",
    "# import matplotlib.pyplot as plt\n",
    "\n",
    "# plt.plot(results['some_data_column'])  # Replace with actual results data\n",
    "# plt.title(\"Model Results Over Time\")\n",
    "# plt.xlabel(\"Time\")\n",
    "# plt.ylabel(\"Value\")\n",
    "# plt.show()\n",
    "\n",
    "# Step 6: Advanced Configuration (Optional)\n",
    "\n",
    "# Allow users to adjust some configuration parameters if needed. This could be useful if you want to modify some settings during runtime.\n",
    "# For example:\n",
    "# user_config = {\"MPdensity_kg_m3\": 1200, \"boxName\": \"New_Box\"}  # Modify based on user input\n",
    "# model.update_config(user_config)  # Assuming a method for updating configuration\n",
    "\n",
    "# Step 7: Saving the Model Output (Optional)\n",
    "\n",
    "# If you want users to save the results, add a section for that.\n",
    "# Example:\n",
    "# output_file = \"model_output.json\"\n",
    "# with open(output_file, \"w\") as file:\n",
    "#     json.dump(results, file)\n",
    "# print(f\"Results saved to {output_file}\")\n"
   ]
  }
 ],
 "metadata": {
  "kernelspec": {
   "display_name": "UTOPIA_env",
   "language": "python",
   "name": "python3"
  },
  "language_info": {
   "codemirror_mode": {
    "name": "ipython",
    "version": 3
   },
   "file_extension": ".py",
   "mimetype": "text/x-python",
   "name": "python",
   "nbconvert_exporter": "python",
   "pygments_lexer": "ipython3",
   "version": "3.11.4"
  }
 },
 "nbformat": 4,
 "nbformat_minor": 2
}
